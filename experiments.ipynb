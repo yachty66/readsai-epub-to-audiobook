{
 "cells": [
  {
   "cell_type": "code",
   "execution_count": 3,
   "metadata": {},
   "outputs": [
    {
     "name": "stdout",
     "output_type": "stream",
     "text": [
      "Successfully extracted EPUB to: out\n"
     ]
    }
   ],
   "source": [
    "import zipfile\n",
    "import os\n",
    "\n",
    "def unzip_epub(epub_path, extract_path):\n",
    "    # Check if the file exists\n",
    "    if not os.path.exists(epub_path):\n",
    "        raise FileNotFoundError(f\"EPUB file not found: {epub_path}\")\n",
    "    \n",
    "    # Create extraction directory if it doesn't exist\n",
    "    os.makedirs(extract_path, exist_ok=True)\n",
    "    \n",
    "    try:\n",
    "        # Open and extract the EPUB file\n",
    "        with zipfile.ZipFile(epub_path, 'r') as epub:\n",
    "            epub.extractall(extract_path)\n",
    "        print(f\"Successfully extracted EPUB to: {extract_path}\")\n",
    "    except zipfile.BadZipFile:\n",
    "        print(\"Error: The file is not a valid ZIP/EPUB file\")\n",
    "    except Exception as e:\n",
    "        print(f\"An error occurred: {str(e)}\")\n",
    "\n",
    "# Example usage\n",
    "epub_file = \"epub_example.epub\"\n",
    "extract_to = \"out\"\n",
    "unzip_epub(epub_file, extract_to)"
   ]
  },
  {
   "cell_type": "code",
   "execution_count": 4,
   "metadata": {},
   "outputs": [
    {
     "ename": "SyntaxError",
     "evalue": "expected 'except' or 'finally' block (3047666449.py, line 32)",
     "output_type": "error",
     "traceback": [
      "\u001b[0;36m  Cell \u001b[0;32mIn[4], line 32\u001b[0;36m\u001b[0m\n\u001b[0;31m    print(\"\\nEPUB Contents Structure:\")\u001b[0m\n\u001b[0m                                       ^\u001b[0m\n\u001b[0;31mSyntaxError\u001b[0m\u001b[0;31m:\u001b[0m expected 'except' or 'finally' block\n"
     ]
    }
   ],
   "source": []
  },
  {
   "cell_type": "code",
   "execution_count": null,
   "metadata": {},
   "outputs": [],
   "source": []
  }
 ],
 "metadata": {
  "kernelspec": {
   "display_name": "base",
   "language": "python",
   "name": "python3"
  },
  "language_info": {
   "codemirror_mode": {
    "name": "ipython",
    "version": 3
   },
   "file_extension": ".py",
   "mimetype": "text/x-python",
   "name": "python",
   "nbconvert_exporter": "python",
   "pygments_lexer": "ipython3",
   "version": "3.11.10"
  }
 },
 "nbformat": 4,
 "nbformat_minor": 2
}
